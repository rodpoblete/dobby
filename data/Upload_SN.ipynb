{
  "cells": [
    {
      "cell_type": "code",
      "source": [
        "# Importamos la librerías.\n",
        "import pandas as pd\n",
        "import datetime"
      ],
      "execution_count": null,
      "outputs": [],
      "metadata": {
        "datalore": {
          "node_id": "95Hll0Zam4olnUKKTuuCW7",
          "type": "CODE",
          "hide_input_from_viewers": false,
          "hide_output_from_viewers": false,
          "report_properties": {
            "rowId": "wohlJWRLoQJgPMxQf5p2AJ",
            "relativeY": 0
          }
        },
        "id": "LZtjOvL-Tkoj"
      }
    },
    {
      "cell_type": "code",
      "source": [
        "# Configuramos pandas para que nos muestre todas las columnas disponibles del dataframe.\n",
        "pd.set_option(\"display.max.columns\", None)\n",
        "\n",
        "# Leemos el csv con pandas.\n",
        "df = pd.read_csv(\"alumnos_ser.csv\", sep=\";\", encoding=\"utf-8-sig\")"
      ],
      "execution_count": null,
      "outputs": [],
      "metadata": {
        "datalore": {
          "node_id": "HAQAdseQYoPYeqcq3rbVKs",
          "type": "CODE",
          "hide_input_from_viewers": false,
          "hide_output_from_viewers": false,
          "report_properties": {
            "rowId": "BD12MHHeedrmzE6s5VYPq4",
            "relativeY": 0
          }
        },
        "id": "O6K1DWNcTkol"
      }
    },
    {
      "cell_type": "code",
      "source": [
        "# Verificamos las columnas y los tipos de datos del dataframe\n",
        "df.info()"
      ],
      "execution_count": null,
      "outputs": [],
      "metadata": {
        "datalore": {
          "node_id": "ZIo1GgVDNHizZCymuG6434",
          "type": "CODE",
          "hide_input_from_viewers": false,
          "hide_output_from_viewers": false,
          "report_properties": {
            "rowId": "O0c9CO8pa2lyYTZoMnrOTh",
            "relativeY": 0
          }
        },
        "id": "OytjLUjmTkol"
      }
    },
    {
      "cell_type": "code",
      "source": [
        "df.head(3)"
      ],
      "execution_count": null,
      "outputs": [],
      "metadata": {
        "datalore": {
          "node_id": "t2dKxz2DPgGy8UAJZe82mT",
          "type": "CODE",
          "hide_input_from_viewers": true,
          "hide_output_from_viewers": true
        },
        "id": "IT2hxo58Tkom"
      }
    },
    {
      "cell_type": "code",
      "source": [
        "# Verificamos la cantidad de datos contenidos en el dataframe (filas por columnas)\n",
        "df.size"
      ],
      "execution_count": null,
      "outputs": [],
      "metadata": {
        "datalore": {
          "node_id": "x9TZ6zDC6cCF1WV2HPclRl",
          "type": "CODE",
          "hide_input_from_viewers": true,
          "hide_output_from_viewers": true
        },
        "id": "khIK8I2nTkoo"
      }
    },
    {
      "cell_type": "code",
      "source": [
        "# Obtenemos la cantidad de valores NaN en el dataframe\n",
        "# Rercordar que los valores NaN son los que Python trata como la \"ausencia\" de un valor\n",
        "df.isna().sum().sum()"
      ],
      "execution_count": null,
      "outputs": [],
      "metadata": {
        "datalore": {
          "node_id": "D8AnrQC83oJUvMzM24Lc4c",
          "type": "CODE",
          "hide_input_from_viewers": true,
          "hide_output_from_viewers": true
        },
        "id": "Vhe_CMDjTkop"
      }
    },
    {
      "cell_type": "code",
      "source": [
        "df.head(5)"
      ],
      "execution_count": null,
      "outputs": [],
      "metadata": {
        "datalore": {
          "node_id": "ACBRPAXWISor5A9gGog1SF",
          "type": "CODE",
          "hide_input_from_viewers": true,
          "hide_output_from_viewers": true
        },
        "id": "qzEKdc9UTkop"
      }
    },
    {
      "cell_type": "code",
      "source": [
        "\"\"\"\n",
        "Buscamos en la columna las coincidencias, con el case=False ignoramos mayúsculas o minúsculas\n",
        "Con na=False ignoramos los valores \"vacíos\" y con el regex=True le decimos que el texto a buscar\n",
        "lo trate como una expresión regular\n",
        "\"\"\"\n",
        "\n",
        "df[df['Direccion'].str.contains('la serena|laserena|serena|laserna|la  serena|coquimbo|vicuña', case=False, na=False, regex=True)]"
      ],
      "execution_count": null,
      "outputs": [],
      "metadata": {
        "datalore": {
          "node_id": "MhkqY0YpgjGf2Rr4H96GBf",
          "type": "CODE",
          "hide_input_from_viewers": true,
          "hide_output_from_viewers": true
        },
        "id": "bbHt_tUvTkoq"
      }
    },
    {
      "cell_type": "code",
      "source": [
        "df['Dirección'] = df['Direccion'].replace({'la serena|laserena|serena|laserna|la  serena|coquimbo|vicuña':''}, regex=True, inplace=True)"
      ],
      "execution_count": null,
      "outputs": [],
      "metadata": {
        "datalore": {
          "node_id": "njTKi92baeP51pBY9FTlFT",
          "type": "CODE",
          "hide_input_from_viewers": true,
          "hide_output_from_viewers": true
        },
        "id": "tRJLeKHqTkos"
      }
    },
    {
      "cell_type": "code",
      "source": [
        "df[df['Direccion'].str.contains('la serena|laserena|serena|laserna|la  serena|coquimbo|vicuña', case=False, na=False, regex=True)]"
      ],
      "execution_count": null,
      "outputs": [],
      "metadata": {
        "datalore": {
          "node_id": "vf53zTMP6m3sEQcZru7wMq",
          "type": "CODE",
          "hide_input_from_viewers": true,
          "hide_output_from_viewers": true
        },
        "id": "Xl_qwHL2Tkou"
      }
    },
    {
      "cell_type": "code",
      "source": [
        "df[df['Direccion'].str.contains(',', case=False, na=False, regex=True)]"
      ],
      "execution_count": null,
      "outputs": [],
      "metadata": {
        "datalore": {
          "node_id": "uHXh1YDP2emLgwB1jwGacN",
          "type": "CODE",
          "hide_input_from_viewers": true,
          "hide_output_from_viewers": true
        },
        "id": "B3wpLR2cTkou"
      }
    },
    {
      "cell_type": "code",
      "source": [
        "df['Dirección'] = df['Direccion'].replace({',':''}, regex=True, inplace=True)"
      ],
      "execution_count": null,
      "outputs": [],
      "metadata": {
        "datalore": {
          "node_id": "OukGNlJGUQNO9PVW0crGFB",
          "type": "CODE",
          "hide_input_from_viewers": true,
          "hide_output_from_viewers": true
        },
        "id": "P7A5wWP6Tkov"
      }
    },
    {
      "cell_type": "code",
      "source": [
        "df.tail(20)"
      ],
      "execution_count": null,
      "outputs": [],
      "metadata": {
        "datalore": {
          "node_id": "YUE6bPKGhopsoNdmDv5VvC",
          "type": "CODE",
          "hide_input_from_viewers": true,
          "hide_output_from_viewers": true
        },
        "id": "-87EX4DKTkow"
      }
    },
    {
      "cell_type": "code",
      "source": [
        "df[df['Direccion'].str.contains('la serena|laserena|serena|laserna|la  serena|coquimbo|vicuña', case=False, na=False, regex=True)]"
      ],
      "execution_count": null,
      "outputs": [],
      "metadata": {
        "datalore": {
          "node_id": "Y47nwS9O66zCh0T5ImNUjr",
          "type": "CODE",
          "hide_input_from_viewers": true,
          "hide_output_from_viewers": true
        },
        "id": "fYNEytcCTkow"
      }
    },
    {
      "cell_type": "code",
      "source": [
        "# Hacemos una copia de la columna del digito verificador, y se castea a string\n",
        "digv = df[\"Digito verificador\"].astype(str).copy()\n",
        "\n",
        "# Se concatena con la columna RUT y se castea a string\n",
        "df[\"Rut\"]= df[\"Rut\"].astype(str).str.cat(digv, sep =\"-\")\n",
        "\n",
        "# Se crea una lista con las columnas a borrar del dataframe\n",
        "digito_verificador_alumno = [\"Digito verificador\"]\n",
        "\n",
        "# Se elimina la columna del dataframe pasandole la lista como parametro.\n",
        "df.drop(digito_verificador_alumno, inplace=True, axis=1)"
      ],
      "execution_count": null,
      "outputs": [],
      "metadata": {
        "datalore": {
          "node_id": "bsEr6TskPcQdt2P0gi7vCv",
          "type": "CODE",
          "hide_input_from_viewers": false,
          "hide_output_from_viewers": false,
          "report_properties": {
            "rowId": "62GwJHCdm25NMfzzNe4tdu",
            "relativeY": 0
          }
        },
        "id": "dPIyzPlITkow"
      }
    },
    {
      "cell_type": "code",
      "source": [
        "df"
      ],
      "execution_count": null,
      "outputs": [],
      "metadata": {
        "datalore": {
          "node_id": "k6ZGCYlpNHjY0m7nZLN7Jb",
          "type": "CODE",
          "hide_input_from_viewers": false,
          "hide_output_from_viewers": false,
          "report_properties": {
            "rowId": "Yz8PdHWcRmWShiZ5IFIX5B",
            "relativeY": 0
          }
        },
        "id": "ffCbyuyaTkox"
      }
    },
    {
      "cell_type": "code",
      "source": [
        "df[\"Direccion\"] = df[\"Direccion\"].str.upper()"
      ],
      "execution_count": null,
      "outputs": [],
      "metadata": {
        "datalore": {
          "node_id": "bdAVVrBQv0gih3NTetFGJ8",
          "type": "CODE",
          "hide_input_from_viewers": false,
          "hide_output_from_viewers": false,
          "report_properties": {
            "rowId": "pGl94saqGxEhYBpVox8OO9",
            "relativeY": 0
          }
        },
        "id": "OfzLdpfhTkox"
      }
    },
    {
      "cell_type": "code",
      "source": [
        "# Nuevo data frame con los valores indicados de separador\n",
        "new = df[\"Nombre Apoderado\"].str.split(\" \", n = 1, expand = True)\n",
        "\n",
        "# Hacer una columna separada Primer Nombre Apoderado en el data frame\n",
        "df[\"Primer Nombre Apoderado\"]= new[0]\n",
        "\n",
        "# Hacer una columna separada Segundo Nombre Apoderado en el data frame\n",
        "df[\"Segundo Nombre Apoderado\"]= new[1]\n",
        "\n",
        "# Eliminar columnas con los nombres antiguos\n",
        "df.drop(columns =[\"Nombre Apoderado\"], inplace = True)"
      ],
      "execution_count": null,
      "outputs": [],
      "metadata": {
        "datalore": {
          "node_id": "MIdDJ7MiBRGVyQIlxicPeY",
          "type": "CODE",
          "hide_input_from_viewers": false,
          "hide_output_from_viewers": false,
          "report_properties": {
            "rowId": "pGl94saqGxEhYBpVox8OO9",
            "relativeY": 6
          }
        },
        "id": "5twNwB4tTkoy"
      }
    },
    {
      "cell_type": "code",
      "source": [
        "# Nuevo data frame con los valores indicados de separador\n",
        "new = df[\"Nombre Apoderado SPL\"].str.split(\" \", n = 1, expand = True)\n",
        "\n",
        "# Hacer una columna separada Primer Nombre Apoderado Suplente en el data frame\n",
        "df[\"Primer Nombre Apoderado SPL\"]= new[0]\n",
        "\n",
        "# Hacer una columna separada Segundo Nombre Apoderado Suplente en el data frame\n",
        "df[\"Segundo Nombre Apoderado SPL\"]= new[1]\n",
        "\n",
        "# Eliminar columnas con los nombres antiguos\n",
        "df.drop(columns =[\"Nombre Apoderado SPL\"], inplace = True)"
      ],
      "execution_count": null,
      "outputs": [],
      "metadata": {
        "datalore": {
          "node_id": "YtyrnKDhHCNypfls2vKTVq",
          "type": "CODE",
          "hide_input_from_viewers": false,
          "hide_output_from_viewers": false,
          "report_properties": {
            "rowId": "Qv5L0GUHraLxscGOl6U7zv",
            "relativeY": 0
          }
        },
        "id": "CByDLqCKTkoy"
      }
    },
    {
      "cell_type": "code",
      "source": [
        "# Nuevo data frame con los valores indicados de separador\n",
        "new = df[\"Nombres\"].str.split(\" \", n = 1, expand = True)\n",
        "\n",
        "# Hacer una columna separada Primer Nombre Alumno en el data frame\n",
        "df[\"Primer Nombre Alumno\"]= new[0]\n",
        "\n",
        "# Hacer una columna separada Segundo Nombre Alumno en el data frame\n",
        "df[\"Segundo Nombre Alumno\"]= new[1]\n",
        "\n",
        "# Eliminar columnas con los nombres antiguos\n",
        "df.drop(columns =[\"Nombres\"], inplace = True)"
      ],
      "execution_count": null,
      "outputs": [],
      "metadata": {
        "datalore": {
          "node_id": "7oyfhyA0A72z8ETj2JhVuy",
          "type": "CODE",
          "hide_input_from_viewers": false,
          "hide_output_from_viewers": false,
          "report_properties": {
            "rowId": "YnSXtibIGrFM6r4PwIduHd",
            "relativeY": 0
          }
        },
        "id": "hgsoDPoBTkoy"
      }
    },
    {
      "cell_type": "code",
      "source": [
        "# Hacemos una copia de la columna de curso y se castea a string\n",
        "letra = df[\"Letra\"].astype(str).copy()\n",
        "\n",
        "# Se concatena con la columna Grado y se castea a string\n",
        "df[\"curso_2024\"]= df[\"Grado\"].astype(str).str.cat(letra, sep =\"\")"
      ],
      "execution_count": null,
      "outputs": [],
      "metadata": {
        "datalore": {
          "node_id": "2bUSLBVgQJD8x0m1UpDXJt",
          "type": "CODE",
          "hide_input_from_viewers": false,
          "hide_output_from_viewers": false,
          "report_properties": {
            "rowId": "6E1rOeL5A3wBnPwbyFm7Ng",
            "relativeY": 0
          }
        },
        "id": "PnHHsDs9Tkoz"
      }
    },
    {
      "cell_type": "code",
      "source": [
        "codigos = {\n",
        "    0: \"SIN COMUNA\",\n",
        "    4101: \"LA SERENA\",\n",
        "    4102: \"COQUIMBO\",\n",
        "    4103: \"ANDACOLLO\",\n",
        "    4104: \"LA HIGUERA\",\n",
        "    4105: \"PAIHUANO\",\n",
        "    4106: \"VICUÑA\",\n",
        "    4204: \"SALAMANCA\",\n",
        "    2101: \"ANTOFAGASTA\",\n",
        "    3301: \"VALLENAR\",\n",
        "    1101: \"IQUIQUE\",\n",
        "    4302: \"COMBARBALA\",\n",
        "    4303: \"MONTE PATRIA\",\n",
        "    4304: \"PUNITAQUI\",\n",
        "    4305: \"RIO HURTADO\",\n",
        "    5602: \"ALGARROBO\",\n",
        "}"
      ],
      "execution_count": null,
      "outputs": [],
      "metadata": {
        "datalore": {
          "node_id": "6jKY6nij3gkDsjYQwoXSRt",
          "type": "CODE",
          "hide_input_from_viewers": false,
          "hide_output_from_viewers": false,
          "report_properties": {
            "rowId": "UPD8Dy4swnjxE2irfUnlPv",
            "relativeY": 0
          }
        },
        "id": "UbidoFE5Tkoz"
      }
    },
    {
      "cell_type": "code",
      "source": [
        "# Con el método replace comparamos los valores de la columna Comuna con el diccionario códigos.\n",
        "# Si hay coincidencia se reemplaza el valor de la \"celda\" con la propiedad inplace=True\n",
        "df['Comuna'].replace(codigos, inplace=True)"
      ],
      "execution_count": null,
      "outputs": [],
      "metadata": {
        "datalore": {
          "node_id": "q3Ky6M5rZjQSK9lfqnuX20",
          "type": "CODE",
          "hide_input_from_viewers": false,
          "hide_output_from_viewers": false,
          "report_properties": {
            "rowId": "XRYwuitx2OJcS7L1kGTmpl",
            "relativeY": 0
          }
        },
        "id": "lFdU5oNzTkoz"
      }
    },
    {
      "cell_type": "code",
      "source": [
        "df[\"Comuna\"].value_counts()"
      ],
      "execution_count": null,
      "outputs": [],
      "metadata": {
        "datalore": {
          "node_id": "aRM2Cprr3AsxNcix801lsr",
          "type": "CODE",
          "hide_input_from_viewers": false,
          "hide_output_from_viewers": false,
          "report_properties": {
            "rowId": "XRYwuitx2OJcS7L1kGTmpl",
            "relativeY": 6
          }
        },
        "id": "j2k4zb5UTko0"
      }
    },
    {
      "cell_type": "code",
      "source": [
        "# Hacemos una copia de la columna comuna y se castea a string\n",
        "comuna = df[\"Comuna\"].astype(str).copy()\n",
        "\n",
        "# Se concatena la columna direccion con la columna comuna\n",
        "df[\"full address\"]= df[\"Direccion\"].str.cat(comuna, sep =\", \")\n",
        "\n",
        "# Especificamos en una lista la columna Dirección que ya no utilizamos\n",
        "direccion_legacy = [\"Direccion\"]\n",
        "\n",
        "# Eliminamos la columna\n",
        "df.drop(direccion_legacy, inplace=True, axis=1)"
      ],
      "execution_count": null,
      "outputs": [],
      "metadata": {
        "datalore": {
          "node_id": "zC6GlnsjQ6c1zDSSQDYHjl",
          "type": "CODE",
          "hide_input_from_viewers": false,
          "hide_output_from_viewers": false,
          "report_properties": {
            "rowId": "XRYwuitx2OJcS7L1kGTmpl",
            "relativeY": 12
          }
        },
        "id": "kw_KGMqjTko0"
      }
    },
    {
      "cell_type": "code",
      "source": [
        "df.info()"
      ],
      "execution_count": null,
      "outputs": [],
      "metadata": {
        "datalore": {
          "node_id": "MP5TiYWLQUZQfGLvjDGhZa",
          "type": "CODE",
          "hide_input_from_viewers": true,
          "hide_output_from_viewers": true
        },
        "id": "H7JvJSJlTko1"
      }
    },
    {
      "cell_type": "code",
      "source": [
        "df.head(10)"
      ],
      "execution_count": null,
      "outputs": [],
      "metadata": {
        "datalore": {
          "node_id": "bP3cuf2TbH0OgNRbqy3rvh",
          "type": "CODE",
          "hide_input_from_viewers": true,
          "hide_output_from_viewers": true
        },
        "id": "CHD23rO3Tko1"
      }
    },
    {
      "cell_type": "code",
      "source": [
        "# Convertimos las columnas de las fechas de Object a String para poder manipular\n",
        "# El formato de las fechas de DD-MM-YYYY a YYYY-MM-DD\n",
        "df['Fecha de Nacimiento'] = df['Fecha de Nacimiento'].astype(\"string\")"
      ],
      "metadata": {
        "id": "3cSOTm4PqLe9"
      },
      "execution_count": null,
      "outputs": []
    },
    {
      "cell_type": "code",
      "source": [
        "# Insertamos columna RBD con el valor perteneciente al colegio.\n",
        "df.insert(0, \"rbd\", 574, True)\n",
        "\n",
        "# Insertamos columna year con el aña academico de los cursos.\n",
        "df.insert(1, \"year\", 2025, True)\n",
        "\n",
        "# Insertamos columna para nivel con valores vacios.\n",
        "df.insert(2, \"Nivel\", \"\", True)\n",
        "\n",
        "# Insertamos columna para local.\n",
        "df.insert(3, \"local\", \"Principal\", True)"
      ],
      "execution_count": null,
      "outputs": [],
      "metadata": {
        "datalore": {
          "node_id": "vIVK5KHdoHoJZ65uSysxDH",
          "type": "CODE",
          "hide_input_from_viewers": false,
          "hide_output_from_viewers": false,
          "report_properties": {
            "rowId": "XRYwuitx2OJcS7L1kGTmpl",
            "relativeY": 24
          }
        },
        "id": "bYU2DUWaTko1"
      }
    },
    {
      "cell_type": "code",
      "source": [
        "df.columns"
      ],
      "execution_count": null,
      "outputs": [],
      "metadata": {
        "datalore": {
          "node_id": "RgYmHgB5UDmlv2CHfrGQYD",
          "type": "CODE",
          "hide_input_from_viewers": false,
          "hide_output_from_viewers": false,
          "report_properties": {
            "rowId": "XRYwuitx2OJcS7L1kGTmpl",
            "relativeY": 30
          }
        },
        "id": "FI2PDauGTko2"
      }
    },
    {
      "cell_type": "markdown",
      "source": [
        "# Columnas de planilla de carga SN\n",
        "Formato de columnas presentes en archivo de SN a normalizar por orden listado:\n",
        "\n",
        "- 0:  rbd\n",
        "- 1:  year\n",
        "- 2:  nivel\n",
        "- 3:  curso\n",
        "- 4:  local\n",
        "- 5:  fechaMatricula\n",
        "- 6:  estudiantePaterno\n",
        "- 7:  estudianteMaterno\n",
        "- 8:  estudianteNombre1\n",
        "- 9:  estudianteNombre2\n",
        "- 10: estudianteEmail\n",
        "- 11: sexo\n",
        "- 12: estudianteRun\n",
        "- 13: fechaNacimiento\n",
        "- 14: direccion\n",
        "- 15: tutor1Nombre1\n",
        "- 16: tutor1Nombre2\n",
        "- 17: tutor1Paterno\n",
        "- 18: tutor1Materno\n",
        "- 19: tutor1Run\n",
        "- 20: tutor1Email\n",
        "- 21: tutor1Celular\n",
        "- 22: tutor2Nombre1\n",
        "- 23: tutor2Nombre2\n",
        "- 24: tutor2Paterno\n",
        "- 25: tutor2Materno\n",
        "- 26: tutor2Run\n",
        "- 27: tutor2Email\n",
        "- 28: tutor2Celular"
      ],
      "metadata": {
        "datalore": {
          "node_id": "S9MXOCzIOLHPxYE4oCy5b4",
          "type": "MD",
          "hide_input_from_viewers": false,
          "hide_output_from_viewers": false,
          "report_properties": {
            "rowId": "XRYwuitx2OJcS7L1kGTmpl",
            "relativeY": 36
          }
        },
        "id": "q8fgRJg4Tko2"
      }
    },
    {
      "cell_type": "code",
      "source": [
        "# Cambiamos los nombres de las columnas, con el parametro inplace=True hacemos los cambios persistentes.\n",
        "df.rename(columns={'curso_2024': 'curso',\n",
        "                   'Nivel': 'nivel',\n",
        "                   'Apellido Paterno': 'estudiantePaterno',\n",
        "                   'Apellido Materno': 'estudianteMaterno',\n",
        "                   'Rut': 'estudianteRun',\n",
        "                   'Fecha de Nacimiento': 'fechaNacimiento',\n",
        "                   'Fecha de Matrícula': 'fechaMatricula',\n",
        "                   'Primer Nombre Alumno': 'estudianteNombre1',\n",
        "                   'Segundo Nombre Alumno': 'estudianteNombre2',\n",
        "                   'Sexo': 'sexo',\n",
        "                   'Email Estudiante': 'estudianteEmail',\n",
        "                   'full address': 'direccion',\n",
        "                   'Primer Nombre Apoderado': 'tutor1Nombre1',\n",
        "                   'Segundo Nombre Apoderado': 'tutor1Nombre2',\n",
        "                   'Apellido Paterno Apo.': 'tutor1Paterno',\n",
        "                   'Apellido Materno Apo.': 'tutor1Materno',\n",
        "                   'Rut Apoderado': 'tutor1Run',\n",
        "                   'Email Apoderado': 'tutor1Email',\n",
        "                   'Celular Apoderado': 'tutor1Celular',\n",
        "                   'Primer Nombre Apoderado SPL': 'tutor2Nombre1',\n",
        "                   'Segundo Nombre Apoderado SPL': 'tutor2Nombre2',\n",
        "                   'Apellido Paterno Apo. SPL': 'tutor2Paterno',\n",
        "                   'Apellido Materno Apo. SPL': 'tutor2Materno',\n",
        "                   'Rut Apoderado SPL': 'tutor2Run',\n",
        "                   'Email Apoderado SPL': 'tutor2Email',\n",
        "                   'Celular SPL': 'tutor2Celular'}, inplace=True)"
      ],
      "execution_count": null,
      "outputs": [],
      "metadata": {
        "datalore": {
          "node_id": "aPXRcbSBs89HAPa5JBaAOb",
          "type": "CODE",
          "hide_input_from_viewers": false,
          "hide_output_from_viewers": false,
          "report_properties": {
            "rowId": "XRYwuitx2OJcS7L1kGTmpl",
            "relativeY": 42
          }
        },
        "id": "hbFITecvTko3"
      }
    },
    {
      "cell_type": "code",
      "source": [
        "# Reordenamos las columnas de acuerdo al archivo de carga.\n",
        "df = df[\n",
        "    [\n",
        "        'rbd',\n",
        "        'year',\n",
        "        'nivel',\n",
        "        'curso',\n",
        "        'local',\n",
        "        'fechaMatricula',\n",
        "        'estudiantePaterno',\n",
        "        'estudianteMaterno',\n",
        "        'estudianteNombre1',\n",
        "        'estudianteNombre2',\n",
        "        'estudianteEmail',\n",
        "        'sexo',\n",
        "        'estudianteRun',\n",
        "        'fechaNacimiento',\n",
        "        'direccion',\n",
        "        'tutor1Nombre1',\n",
        "        'tutor1Nombre2',\n",
        "        'tutor1Paterno',\n",
        "        'tutor1Materno',\n",
        "        'tutor1Run',\n",
        "        'tutor1Email',\n",
        "        'tutor1Celular',\n",
        "        'tutor2Nombre1',\n",
        "        'tutor2Nombre2',\n",
        "        'tutor2Paterno',\n",
        "        'tutor2Materno',\n",
        "        'tutor2Run',\n",
        "        'tutor2Email',\n",
        "        'tutor2Celular',\n",
        "        'Grado'\n",
        "    ]]"
      ],
      "execution_count": null,
      "outputs": [],
      "metadata": {
        "datalore": {
          "node_id": "SPkH50U5jKSliegQ24AytX",
          "type": "CODE",
          "hide_input_from_viewers": false,
          "hide_output_from_viewers": false,
          "report_properties": {
            "rowId": "XRYwuitx2OJcS7L1kGTmpl",
            "relativeY": 48
          }
        },
        "id": "lyISBMlPTko4"
      }
    },
    {
      "cell_type": "code",
      "source": [
        "pd.options.mode.chained_assignment = None  # default='warn'\n",
        "\n",
        "df.loc[df['Grado'] == 7, 'nivel'] = '7 Básico'\n",
        "df.loc[df['Grado'] == 8, 'nivel'] = '8 Básico'\n",
        "df.loc[df['Grado'] == 1, 'nivel'] = '1 Medio'\n",
        "df.loc[df['Grado'] == 2, 'nivel'] = '2 Medio'\n",
        "df.loc[df['Grado'] == 3, 'nivel'] = '3 Medio'\n",
        "df.loc[df['Grado'] == 4, 'nivel'] = '4 Medio'"
      ],
      "execution_count": null,
      "outputs": [],
      "metadata": {
        "datalore": {
          "node_id": "0nHd93IOZYInG03SY6mATP",
          "type": "CODE",
          "hide_input_from_viewers": false,
          "hide_output_from_viewers": false,
          "report_properties": {
            "rowId": "XRYwuitx2OJcS7L1kGTmpl",
            "relativeY": 54
          }
        },
        "id": "dvmkE7dXTko5"
      }
    },
    {
      "cell_type": "code",
      "source": [
        "df"
      ],
      "execution_count": null,
      "outputs": [],
      "metadata": {
        "datalore": {
          "node_id": "dhJWDNLyGsofrDgmCyK63o",
          "type": "CODE",
          "hide_input_from_viewers": false,
          "hide_output_from_viewers": false,
          "report_properties": {
            "rowId": "XRYwuitx2OJcS7L1kGTmpl",
            "relativeY": 60
          }
        },
        "id": "G3RpaT-zTko6"
      }
    },
    {
      "cell_type": "code",
      "source": [
        "# Especificamos en una lista la columna Grado que ya no utilizamos\n",
        "grado_not_used = [\"Grado\"]\n",
        "\n",
        "# Eliminamos la columna\n",
        "df.drop(grado_not_used, inplace=True, axis=1)"
      ],
      "execution_count": null,
      "outputs": [],
      "metadata": {
        "datalore": {
          "node_id": "cxGuYl3TUaoxMyZO9n4gFn",
          "type": "CODE",
          "hide_input_from_viewers": false,
          "hide_output_from_viewers": false,
          "report_properties": {
            "rowId": "XRYwuitx2OJcS7L1kGTmpl",
            "relativeY": 66
          }
        },
        "id": "kgVXdhVoTko6"
      }
    },
    {
      "cell_type": "code",
      "source": [
        "df[\"sexo\"].value_counts()"
      ],
      "execution_count": null,
      "outputs": [],
      "metadata": {
        "datalore": {
          "node_id": "jS1jaSExwV3al4OOJOmPwg",
          "type": "CODE",
          "hide_input_from_viewers": false,
          "hide_output_from_viewers": false,
          "report_properties": {
            "rowId": "XRYwuitx2OJcS7L1kGTmpl",
            "relativeY": 72
          }
        },
        "id": "W4mPO-jgTko6"
      }
    },
    {
      "cell_type": "code",
      "source": [
        "df.columns"
      ],
      "metadata": {
        "id": "mSVj-Kh_s1vO"
      },
      "execution_count": null,
      "outputs": []
    },
    {
      "cell_type": "code",
      "source": [
        "# Convertimos las columnas con fecha de tipo object a string\n",
        "# Para poder manipular su formato de DD-MM-YYYY a YYYY-MM-DD\n",
        "df['fechaMatricula'] = df['fechaMatricula'].astype(\"string\")\n",
        "df['fechaNacimiento'] = df['fechaNacimiento'].astype(\"string\")"
      ],
      "metadata": {
        "id": "GxO-daSGsY6S"
      },
      "execution_count": null,
      "outputs": []
    },
    {
      "cell_type": "code",
      "source": [
        "df.info()"
      ],
      "metadata": {
        "id": "_Po4dhiqtHPA"
      },
      "execution_count": null,
      "outputs": []
    },
    {
      "cell_type": "code",
      "source": [
        "# Cambiamos las columnas de tipo object a string\n",
        "df['fechaMatricula'] = df['fechaMatricula'].astype(\"string\")\n",
        "df['fechaNacimiento'] = df['fechaNacimiento'].astype(\"string\")"
      ],
      "metadata": {
        "id": "vUe_wFnOtgv-"
      },
      "execution_count": null,
      "outputs": []
    },
    {
      "cell_type": "code",
      "source": [
        "# Cambiamos el formato de las columnas de string a date\n",
        "# Ademas con el formato .dt.date le quitamos la hora para que se mantenga sólo la fecha\n",
        "df['fechaMatricula'] = pd.to_datetime(df['fechaMatricula'], dayfirst=True, format='mixed').dt.date\n",
        "df['fechaNacimiento'] = pd.to_datetime(df['fechaNacimiento'], dayfirst=True, format='mixed').dt.date"
      ],
      "metadata": {
        "id": "VHo1otu2uEHB"
      },
      "execution_count": null,
      "outputs": []
    },
    {
      "cell_type": "code",
      "source": [
        "# Limpiamos la columna de celular de AP SPL de celdas vacías a cero\n",
        "df['tutor1Celular'] = df['tutor1Celular'].fillna(0)\n",
        "df['tutor2Celular'] = df['tutor2Celular'].fillna(0)\n",
        "\n",
        "# Casteamos las columnas de los números de celular de tipo float64 a int64\n",
        "df['tutor1Celular'] = df['tutor1Celular'].astype('int64')\n",
        "df['tutor2Celular'] = df['tutor2Celular'].astype('int64')"
      ],
      "metadata": {
        "id": "XvGr6HYeuM95"
      },
      "execution_count": null,
      "outputs": []
    },
    {
      "cell_type": "code",
      "source": [
        "df"
      ],
      "metadata": {
        "id": "Dcm4qBcZ1YV3"
      },
      "execution_count": null,
      "outputs": []
    },
    {
      "cell_type": "code",
      "source": [
        "currentDateTime = datetime.datetime.now().strftime(\"%Y-%m-%d-%H-%M-%S\")\n",
        "# Exportamos el data frame a un .csv\n",
        "df.to_csv(f\"alumnos2025-uploadsn-{currentDateTime}.csv\", sep=\";\", index=False, encoding=\"utf-8-sig\")"
      ],
      "execution_count": null,
      "outputs": [],
      "metadata": {
        "datalore": {
          "node_id": "9Zi9VkXLmu3gXlB7xzoP32",
          "type": "CODE",
          "hide_input_from_viewers": false,
          "hide_output_from_viewers": false,
          "report_properties": {
            "rowId": "XRYwuitx2OJcS7L1kGTmpl",
            "relativeY": 78
          }
        },
        "id": "TCQDTIaZTko6"
      }
    }
  ],
  "metadata": {
    "kernelspec": {
      "display_name": "Python 3",
      "name": "python3"
    },
    "datalore": {
      "computation_mode": "JUPYTER",
      "package_manager": "pip",
      "base_environment": "default",
      "packages": [],
      "report_row_ids": [
        "wohlJWRLoQJgPMxQf5p2AJ",
        "BD12MHHeedrmzE6s5VYPq4",
        "O0c9CO8pa2lyYTZoMnrOTh",
        "62GwJHCdm25NMfzzNe4tdu",
        "Yz8PdHWcRmWShiZ5IFIX5B",
        "pGl94saqGxEhYBpVox8OO9",
        "Qv5L0GUHraLxscGOl6U7zv",
        "YnSXtibIGrFM6r4PwIduHd",
        "6E1rOeL5A3wBnPwbyFm7Ng",
        "UPD8Dy4swnjxE2irfUnlPv",
        "XRYwuitx2OJcS7L1kGTmpl"
      ],
      "version": 3
    },
    "colab": {
      "provenance": []
    },
    "language_info": {
      "name": "python"
    }
  },
  "nbformat": 4,
  "nbformat_minor": 0
}